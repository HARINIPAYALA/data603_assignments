{
  "nbformat": 4,
  "nbformat_minor": 0,
  "metadata": {
    "colab": {
      "provenance": []
    },
    "kernelspec": {
      "name": "python3",
      "display_name": "Python 3"
    },
    "language_info": {
      "name": "python"
    }
  },
  "cells": [
    {
      "cell_type": "code",
      "execution_count": null,
      "metadata": {
        "id": "hZ7j0OryBR_-",
        "colab": {
          "base_uri": "https://localhost:8080/"
        },
        "outputId": "e992b004-312e-434f-d3e2-34e1932338ad"
      },
      "outputs": [
        {
          "output_type": "stream",
          "name": "stdout",
          "text": [
            "Looking in indexes: https://pypi.org/simple, https://us-python.pkg.dev/colab-wheels/public/simple/\n",
            "Collecting pyspark\n",
            "  Downloading pyspark-3.3.2.tar.gz (281.4 MB)\n",
            "\u001b[2K     \u001b[90m━━━━━━━━━━━━━━━━━━━━━━━━━━━━━━━━━━━━━━━\u001b[0m \u001b[32m281.4/281.4 MB\u001b[0m \u001b[31m5.8 MB/s\u001b[0m eta \u001b[36m0:00:00\u001b[0m\n",
            "\u001b[?25h  Preparing metadata (setup.py) ... \u001b[?25l\u001b[?25hdone\n",
            "Collecting py4j==0.10.9.5\n",
            "  Downloading py4j-0.10.9.5-py2.py3-none-any.whl (199 kB)\n",
            "\u001b[2K     \u001b[90m━━━━━━━━━━━━━━━━━━━━━━━━━━━━━━━━━━━━━━\u001b[0m \u001b[32m199.7/199.7 KB\u001b[0m \u001b[31m17.8 MB/s\u001b[0m eta \u001b[36m0:00:00\u001b[0m\n",
            "\u001b[?25hBuilding wheels for collected packages: pyspark\n",
            "  Building wheel for pyspark (setup.py) ... \u001b[?25l\u001b[?25hdone\n",
            "  Created wheel for pyspark: filename=pyspark-3.3.2-py2.py3-none-any.whl size=281824028 sha256=9bbfe505ed3c7af62577fffa8387a54c9fbc6fa75cd8b951651a8b2037473897\n",
            "  Stored in directory: /root/.cache/pip/wheels/6c/e3/9b/0525ce8a69478916513509d43693511463c6468db0de237c86\n",
            "Successfully built pyspark\n",
            "Installing collected packages: py4j, pyspark\n",
            "  Attempting uninstall: py4j\n",
            "    Found existing installation: py4j 0.10.9.7\n",
            "    Uninstalling py4j-0.10.9.7:\n",
            "      Successfully uninstalled py4j-0.10.9.7\n",
            "Successfully installed py4j-0.10.9.5 pyspark-3.3.2\n"
          ]
        }
      ],
      "source": [
        "!pip install pyspark"
      ]
    },
    {
      "cell_type": "code",
      "source": [
        "!pip install pyspark[sql]\n",
        "\n",
        "!pip install pyspark[pandas_on_spark] plotly"
      ],
      "metadata": {
        "colab": {
          "base_uri": "https://localhost:8080/"
        },
        "id": "Qj5C7RcVQW7n",
        "outputId": "f3155f59-c39c-4e85-e2f9-de2a45eff122"
      },
      "execution_count": null,
      "outputs": [
        {
          "output_type": "stream",
          "name": "stdout",
          "text": [
            "Looking in indexes: https://pypi.org/simple, https://us-python.pkg.dev/colab-wheels/public/simple/\n",
            "Requirement already satisfied: pyspark[sql] in /usr/local/lib/python3.9/dist-packages (3.3.2)\n",
            "Requirement already satisfied: py4j==0.10.9.5 in /usr/local/lib/python3.9/dist-packages (from pyspark[sql]) (0.10.9.5)\n",
            "Requirement already satisfied: pandas>=1.0.5 in /usr/local/lib/python3.9/dist-packages (from pyspark[sql]) (1.4.4)\n",
            "Requirement already satisfied: pyarrow>=1.0.0 in /usr/local/lib/python3.9/dist-packages (from pyspark[sql]) (9.0.0)\n",
            "Requirement already satisfied: pytz>=2020.1 in /usr/local/lib/python3.9/dist-packages (from pandas>=1.0.5->pyspark[sql]) (2022.7.1)\n",
            "Requirement already satisfied: numpy>=1.18.5 in /usr/local/lib/python3.9/dist-packages (from pandas>=1.0.5->pyspark[sql]) (1.22.4)\n",
            "Requirement already satisfied: python-dateutil>=2.8.1 in /usr/local/lib/python3.9/dist-packages (from pandas>=1.0.5->pyspark[sql]) (2.8.2)\n",
            "Requirement already satisfied: six>=1.5 in /usr/local/lib/python3.9/dist-packages (from python-dateutil>=2.8.1->pandas>=1.0.5->pyspark[sql]) (1.16.0)\n",
            "Looking in indexes: https://pypi.org/simple, https://us-python.pkg.dev/colab-wheels/public/simple/\n",
            "Requirement already satisfied: pyspark[pandas_on_spark] in /usr/local/lib/python3.9/dist-packages (3.3.2)\n",
            "Requirement already satisfied: plotly in /usr/local/lib/python3.9/dist-packages (5.13.1)\n",
            "Requirement already satisfied: py4j==0.10.9.5 in /usr/local/lib/python3.9/dist-packages (from pyspark[pandas_on_spark]) (0.10.9.5)\n",
            "Requirement already satisfied: pandas>=1.0.5 in /usr/local/lib/python3.9/dist-packages (from pyspark[pandas_on_spark]) (1.4.4)\n",
            "Requirement already satisfied: pyarrow>=1.0.0 in /usr/local/lib/python3.9/dist-packages (from pyspark[pandas_on_spark]) (9.0.0)\n",
            "Requirement already satisfied: numpy>=1.15 in /usr/local/lib/python3.9/dist-packages (from pyspark[pandas_on_spark]) (1.22.4)\n",
            "Requirement already satisfied: tenacity>=6.2.0 in /usr/local/lib/python3.9/dist-packages (from plotly) (8.2.2)\n",
            "Requirement already satisfied: python-dateutil>=2.8.1 in /usr/local/lib/python3.9/dist-packages (from pandas>=1.0.5->pyspark[pandas_on_spark]) (2.8.2)\n",
            "Requirement already satisfied: pytz>=2020.1 in /usr/local/lib/python3.9/dist-packages (from pandas>=1.0.5->pyspark[pandas_on_spark]) (2022.7.1)\n",
            "Requirement already satisfied: six>=1.5 in /usr/local/lib/python3.9/dist-packages (from python-dateutil>=2.8.1->pandas>=1.0.5->pyspark[pandas_on_spark]) (1.16.0)\n"
          ]
        }
      ]
    },
    {
      "cell_type": "markdown",
      "source": [
        "1. Create a Spark session"
      ],
      "metadata": {
        "id": "W0kCnW4MMp3H"
      }
    },
    {
      "cell_type": "code",
      "source": [
        "from pyspark.sql import SparkSession\n",
        "spark = SparkSession.builder.appName(\"crime_analysis\").getOrCreate()"
      ],
      "metadata": {
        "id": "bi_zTSijMqY4"
      },
      "execution_count": null,
      "outputs": []
    },
    {
      "cell_type": "markdown",
      "source": [
        "2. Define the schema for loading the Chicago crime dataset"
      ],
      "metadata": {
        "id": "tqVDOZ-bM1KB"
      }
    },
    {
      "cell_type": "code",
      "source": [
        "from pyspark.sql.types import  (StructType, \n",
        "                                StructField, \n",
        "                                DateType, \n",
        "                                BooleanType,\n",
        "                                DoubleType,\n",
        "                                IntegerType,\n",
        "                                StringType,\n",
        "                               TimestampType)\n",
        "crimes_schema = StructType([StructField(\"ID\", StringType(), True),\n",
        "                            StructField(\"CaseNumber\", StringType(), True),\n",
        "                            StructField(\"Date\", StringType(), True ),\n",
        "                            StructField(\"Block\", StringType(), True),\n",
        "                            StructField(\"IUCR\", StringType(), True),\n",
        "                            StructField(\"PrimaryType\", StringType(), True  ),\n",
        "                            StructField(\"Description\", StringType(), True ),\n",
        "                            StructField(\"LocationDescription\", StringType(), True ),\n",
        "                            StructField(\"Arrest\", BooleanType(), True),\n",
        "                            StructField(\"Domestic\", BooleanType(), True),\n",
        "                            StructField(\"Beat\", StringType(), True),\n",
        "                            StructField(\"District\", StringType(), True),\n",
        "                            StructField(\"Ward\", StringType(), True),\n",
        "                            StructField(\"CommunityArea\", StringType(), True),\n",
        "                            StructField(\"FBICode\", StringType(), True ),\n",
        "                            StructField(\"XCoordinate\", DoubleType(), True),\n",
        "                            StructField(\"YCoordinate\", DoubleType(), True ),\n",
        "                            StructField(\"Year\", IntegerType(), True),\n",
        "                            StructField(\"UpdatedOn\", DateType(), True ),\n",
        "                            StructField(\"Latitude\", DoubleType(), True),\n",
        "                            StructField(\"Longitude\", DoubleType(), True),\n",
        "                            StructField(\"Location\", StringType(), True )\n",
        "                            ])"
      ],
      "metadata": {
        "id": "rWIOIx8HM1oI"
      },
      "execution_count": null,
      "outputs": []
    },
    {
      "cell_type": "markdown",
      "source": [
        "3.Load the Chicago crime data (you should get more than a million rows)"
      ],
      "metadata": {
        "id": "zRSEKOwuNN9T"
      }
    },
    {
      "cell_type": "code",
      "source": [
        "Chicago_crimes = spark.read.csv(\"/content/Crimes_-_2001_to_Present (1).csv\",\n",
        "                       header = True, \n",
        "                        schema = crimes_schema)"
      ],
      "metadata": {
        "id": "ruWv6YKANVrJ"
      },
      "execution_count": 30,
      "outputs": []
    },
    {
      "cell_type": "code",
      "source": [
        "print(\" The crimes dataframe has {} records\".format(Chicago_crimes.count()))"
      ],
      "metadata": {
        "colab": {
          "base_uri": "https://localhost:8080/"
        },
        "id": "G9Kd6Pquk8e2",
        "outputId": "2e45de9a-5f49-4429-c4e7-0eed8a30d1aa"
      },
      "execution_count": 31,
      "outputs": [
        {
          "output_type": "stream",
          "name": "stdout",
          "text": [
            " The crimes dataframe has 1253781 records\n"
          ]
        }
      ]
    },
    {
      "cell_type": "markdown",
      "source": [
        "so from the above the crimes dataframe consists 6579242 records."
      ],
      "metadata": {
        "id": "dZJgbPuUlTEI"
      }
    },
    {
      "cell_type": "markdown",
      "source": [
        "4. Clean the data"
      ],
      "metadata": {
        "id": "WbvR9HEclZ-E"
      }
    },
    {
      "cell_type": "markdown",
      "source": [
        "a) Remove all null values."
      ],
      "metadata": {
        "id": "VcUVHoBElfY2"
      }
    },
    {
      "cell_type": "code",
      "source": [
        "Chicago_crimes.na.drop().show()"
      ],
      "metadata": {
        "colab": {
          "base_uri": "https://localhost:8080/"
        },
        "id": "l_FtfISAlivD",
        "outputId": "82f44651-73e7-4f24-ef08-0f4bb0f59554"
      },
      "execution_count": 32,
      "outputs": [
        {
          "output_type": "stream",
          "name": "stdout",
          "text": [
            "+---+----------+----+-----+----+-----------+-----------+-------------------+------+--------+----+--------+----+-------------+-------+-----------+-----------+----+---------+--------+---------+--------+\n",
            "| ID|CaseNumber|Date|Block|IUCR|PrimaryType|Description|LocationDescription|Arrest|Domestic|Beat|District|Ward|CommunityArea|FBICode|XCoordinate|YCoordinate|Year|UpdatedOn|Latitude|Longitude|Location|\n",
            "+---+----------+----+-----+----+-----------+-----------+-------------------+------+--------+----+--------+----+-------------+-------+-----------+-----------+----+---------+--------+---------+--------+\n",
            "+---+----------+----+-----+----+-----------+-----------+-------------------+------+--------+----+--------+----+-------------+-------+-----------+-----------+----+---------+--------+---------+--------+\n",
            "\n"
          ]
        }
      ]
    },
    {
      "cell_type": "markdown",
      "source": [
        "b) Change 'Date' column data type"
      ],
      "metadata": {
        "id": "ORyGMiLgnSSk"
      }
    },
    {
      "cell_type": "code",
      "source": [
        "from datetime import datetime\n",
        "from pyspark.sql.functions import col,udf\n",
        "\n",
        "d_func =  udf(lambda x: datetime.strptime(x, '%m/%d/%Y %I:%M:%S %p'), TimestampType())\n",
        "Chicago_crimes = Chicago_crimes.withColumn('Date&time', d_func(col('Date'))).drop(\"Date\")\n",
        "\n",
        "Chicago_crimes.select(Chicago_crimes[\"Date&time\"]).show(10)"
      ],
      "metadata": {
        "colab": {
          "base_uri": "https://localhost:8080/"
        },
        "id": "im0MZnnam2up",
        "outputId": "7c525896-ff61-4e09-b2b7-4e3a75f5751d"
      },
      "execution_count": 33,
      "outputs": [
        {
          "output_type": "stream",
          "name": "stdout",
          "text": [
            "+-------------------+\n",
            "|          Date&time|\n",
            "+-------------------+\n",
            "|2015-09-05 13:30:00|\n",
            "|2015-09-04 11:30:00|\n",
            "|2018-09-01 00:01:00|\n",
            "|2015-09-05 12:45:00|\n",
            "|2015-09-05 13:00:00|\n",
            "|2015-09-05 10:55:00|\n",
            "|2015-09-04 18:00:00|\n",
            "|2015-09-05 13:00:00|\n",
            "|2015-09-05 11:30:00|\n",
            "|2016-05-01 00:25:00|\n",
            "+-------------------+\n",
            "only showing top 10 rows\n",
            "\n"
          ]
        }
      ]
    },
    {
      "cell_type": "markdown",
      "source": [
        "5. Filter the data for last ten years."
      ],
      "metadata": {
        "id": "j5kpa1ASnam1"
      }
    },
    {
      "cell_type": "code",
      "source": [
        "from pyspark.sql.functions import *"
      ],
      "metadata": {
        "id": "yVrweoPWni8V"
      },
      "execution_count": 34,
      "outputs": []
    },
    {
      "cell_type": "code",
      "source": [
        "import pandas as pd\n",
        "from pyspark.sql import functions as F\n",
        "import datetime, time \n",
        "from pyspark.sql.functions import col"
      ],
      "metadata": {
        "id": "qKSkKd5EnoNC"
      },
      "execution_count": 35,
      "outputs": []
    },
    {
      "cell_type": "code",
      "source": [
        "Chicago_crimes = Chicago_crimes.filter(Chicago_crimes.Year >= 2012)"
      ],
      "metadata": {
        "id": "EZC_CyesnqzG"
      },
      "execution_count": 36,
      "outputs": []
    },
    {
      "cell_type": "code",
      "source": [
        "df_filter= Chicago_crimes.filter(F.col(\"Date&time\").between('2012-01-01 00:00:00','2022-12-01 00:00:00'))\n",
        "Chicago_crimes.show()"
      ],
      "metadata": {
        "colab": {
          "base_uri": "https://localhost:8080/"
        },
        "id": "jtE24DixnyEk",
        "outputId": "0c21c36f-95db-4272-9891-a208b4627892"
      },
      "execution_count": 40,
      "outputs": [
        {
          "output_type": "stream",
          "name": "stdout",
          "text": [
            "+--------+----------+--------------------+----+------------------+--------------------+--------------------+------+--------+----+--------+----+-------------+-------+-----------+-----------+----+---------+------------+-------------+--------------------+-------------------+\n",
            "|      ID|CaseNumber|               Block|IUCR|       PrimaryType|         Description| LocationDescription|Arrest|Domestic|Beat|District|Ward|CommunityArea|FBICode|XCoordinate|YCoordinate|Year|UpdatedOn|    Latitude|    Longitude|            Location|          Date&time|\n",
            "+--------+----------+--------------------+----+------------------+--------------------+--------------------+------+--------+----+--------+----+-------------+-------+-----------+-----------+----+---------+------------+-------------+--------------------+-------------------+\n",
            "|10224738|  HY411648|     043XX S WOOD ST|0486|           BATTERY|DOMESTIC BATTERY ...|           RESIDENCE| false|    true|0924|     009|  12|           61|    08B|  1165074.0|  1875917.0|2015|     null|41.815117282|-87.669999562|(41.815117282, -8...|2015-09-05 13:30:00|\n",
            "|10224739|  HY411615| 008XX N CENTRAL AVE|0870|             THEFT|      POCKET-PICKING|             CTA BUS| false|   false|1511|     015|  29|           25|     06|  1138875.0|  1904869.0|2015|     null|41.895080471|-87.765400451|(41.895080471, -8...|2015-09-04 11:30:00|\n",
            "|11646166|  JC213529|082XX S INGLESIDE...|0810|             THEFT|           OVER $500|           RESIDENCE| false|    true|0631|     006|   8|           44|     06|       null|       null|2018|     null|        null|         null|                null|2018-09-01 00:01:00|\n",
            "|10224740|  HY411595|   035XX W BARRY AVE|2023|         NARCOTICS|POSS: HEROIN(BRN/...|            SIDEWALK|  true|   false|1412|     014|  35|           21|     18|  1152037.0|  1920384.0|2015|     null|41.937405765|-87.716649687|(41.937405765, -8...|2015-09-05 12:45:00|\n",
            "|10224741|  HY411610| 0000X N LARAMIE AVE|0560|           ASSAULT|              SIMPLE|           APARTMENT| false|    true|1522|     015|  28|           25|    08A|  1141706.0|  1900086.0|2015|     null|41.881903443|-87.755121152|(41.881903443, -8...|2015-09-05 13:00:00|\n",
            "|10224742|  HY411435| 082XX S LOOMIS BLVD|0610|          BURGLARY|      FORCIBLE ENTRY|           RESIDENCE| false|   false|0614|     006|  21|           71|     05|  1168430.0|  1850165.0|2015|     null|41.744378879|-87.658430635|(41.744378879, -8...|2015-09-05 10:55:00|\n",
            "|10224743|  HY411629|021XX W CHURCHILL ST|0620|          BURGLARY|      UNLAWFUL ENTRY|    RESIDENCE-GARAGE| false|   false|1434|     014|  32|           24|     05|  1161628.0|  1912157.0|2015|     null|41.914635603|-87.681630909|(41.914635603, -8...|2015-09-04 18:00:00|\n",
            "|10224744|  HY411605|   025XX W CERMAK RD|0860|             THEFT|        RETAIL THEFT|  GROCERY FOOD STORE|  true|   false|1034|     010|  25|           31|     06|  1159734.0|  1889313.0|2015|     null|41.851988885|-87.689219118|(41.851988885, -8...|2015-09-05 13:00:00|\n",
            "|10224745|  HY411654|031XX W WASHINGTO...|0320|           ROBBERY|STRONGARM - NO WE...|              STREET| false|    true|1222|     012|  27|           27|     03|  1155536.0|  1900515.0|2015|     null| 41.88281374|-87.704325717|(41.88281374, -87...|2015-09-05 11:30:00|\n",
            "|11645836|  JC212333| 055XX S ROCKWELL ST|1153|DECEPTIVE PRACTICE|FINANCIAL IDENTIT...|                null| false|   false|0824|     008|  15|           63|     11|       null|       null|2016|     null|        null|         null|                null|2016-05-01 00:25:00|\n",
            "|10224746|  HY411662|  071XX S PULASKI RD|0820|             THEFT|      $500 AND UNDER|PARKING LOT/GARAG...| false|   false|0833|     008|  13|           65|     06|  1150938.0|  1857056.0|2015|     null|41.763647552|-87.722344693|(41.763647552, -8...|2015-09-05 14:00:00|\n",
            "|10224749|  HY411626|052XX N MILWAUKEE...|0460|           BATTERY|              SIMPLE|  SMALL RETAIL STORE| false|   false|1623|     016|  45|           11|    08B|  1137969.0|  1934340.0|2015|     null|41.975968415|-87.768014257|(41.975968415, -8...|2015-09-05 11:00:00|\n",
            "|10224750|  HY411632|    0000X W 103RD ST|2820|     OTHER OFFENSE|    TELEPHONE THREAT|           APARTMENT| false|    true|0512|     005|  34|           49|     26|  1177871.0|  1836676.0|2015|     null|41.707154919|-87.624244993|(41.707154919, -8...|2015-09-05 03:00:00|\n",
            "|10224751|  HY411566|     013XX E 47TH ST|0486|           BATTERY|DOMESTIC BATTERY ...|              STREET| false|    true|0222|     002|   4|           39|    08B|  1185907.0|  1874105.0|2015|     null|41.809678314|-87.593638934|(41.809678314, -8...|2015-09-05 12:50:00|\n",
            "|10224752|  HY411601| 020XX W SCHILLER ST|0810|             THEFT|           OVER $500|              STREET| false|   false|1424|     014|   1|           24|     06|  1162574.0|  1909428.0|2015|     null|41.907127255|-87.678232016|(41.907127255, -8...|2015-09-03 13:00:00|\n",
            "|10224753|  HY411489|  080XX S JUSTINE ST|0497|           BATTERY|AGGRAVATED DOMEST...|           APARTMENT| false|   false|0612|     006|  21|           71|    04B|  1167400.0|  1851512.0|2015|     null|41.748097343|-87.662166183|(41.748097343, -8...|2015-09-05 11:45:00|\n",
            "|10224754|  HY411656|007XX N LEAMINGTO...|1320|   CRIMINAL DAMAGE|          TO VEHICLE|              STREET| false|   false|1531|     015|  28|           25|     14|  1141889.0|  1904448.0|2015|     null|41.893869916|-87.754341096|(41.893869916, -8...|2015-09-05 13:30:00|\n",
            "|10224756|  HY410094|103XX S TORRENCE AVE|0620|          BURGLARY|      UNLAWFUL ENTRY|               OTHER| false|   false|0434|     004|  10|           51|     05|  1195508.0|  1836950.0|2015|     null|41.707490122|-87.559650325|(41.707490122, -8...|2015-07-08 00:00:00|\n",
            "|10224757|  HY411388|  088XX S PAULINA ST|0610|          BURGLARY|      FORCIBLE ENTRY|           RESIDENCE|  true|   false|2221|     022|  21|           71|     05|  1166554.0|  1846067.0|2015|     null|41.733173536|-87.665421067|(41.733173536, -8...|2015-09-05 09:55:00|\n",
            "|10224758|  HY411568|    059XX W GRACE ST|0486|           BATTERY|DOMESTIC BATTERY ...|              STREET| false|    true|1633|     016|  38|           15|    08B|  1136014.0|  1924656.0|2015|     null|41.949429769|-87.775435529|(41.949429769, -8...|2015-09-05 12:35:00|\n",
            "+--------+----------+--------------------+----+------------------+--------------------+--------------------+------+--------+----+--------+----+-------------+-------+-----------+-----------+----+---------+------------+-------------+--------------------+-------------------+\n",
            "only showing top 20 rows\n",
            "\n"
          ]
        }
      ]
    },
    {
      "cell_type": "code",
      "source": [
        "print(\" The crimes dataframe has {} records\".format( Chicago_crimes.count()))"
      ],
      "metadata": {
        "colab": {
          "base_uri": "https://localhost:8080/"
        },
        "id": "6QU070LspDmV",
        "outputId": "aaec1b27-38ad-4c34-b243-9599430693d0"
      },
      "execution_count": 41,
      "outputs": [
        {
          "output_type": "stream",
          "name": "stdout",
          "text": [
            " The crimes dataframe has 1031405 records\n"
          ]
        }
      ]
    },
    {
      "cell_type": "markdown",
      "source": [
        "6. Remove all the records with the following crime types:\n",
        "- NON-CRIMINAL (SUBJECT SPECIFIED), OTHER OFFENSE, STALKING, NON - CRIMINAL,ARSON"
      ],
      "metadata": {
        "id": "8BNnQVsYpMek"
      }
    },
    {
      "cell_type": "code",
      "source": [
        "Chicago_crimes.columns"
      ],
      "metadata": {
        "colab": {
          "base_uri": "https://localhost:8080/"
        },
        "id": "9reBkyXHpP2V",
        "outputId": "156bbc65-8ff3-4230-9abf-7c40d11d0d0b"
      },
      "execution_count": 42,
      "outputs": [
        {
          "output_type": "execute_result",
          "data": {
            "text/plain": [
              "['ID',\n",
              " 'CaseNumber',\n",
              " 'Block',\n",
              " 'IUCR',\n",
              " 'PrimaryType',\n",
              " 'Description',\n",
              " 'LocationDescription',\n",
              " 'Arrest',\n",
              " 'Domestic',\n",
              " 'Beat',\n",
              " 'District',\n",
              " 'Ward',\n",
              " 'CommunityArea',\n",
              " 'FBICode',\n",
              " 'XCoordinate',\n",
              " 'YCoordinate',\n",
              " 'Year',\n",
              " 'UpdatedOn',\n",
              " 'Latitude',\n",
              " 'Longitude',\n",
              " 'Location',\n",
              " 'Date&time']"
            ]
          },
          "metadata": {},
          "execution_count": 42
        }
      ]
    },
    {
      "cell_type": "code",
      "source": [
        "Chicago_crimes.select(\"PrimaryType\").distinct().show(n = 32)"
      ],
      "metadata": {
        "colab": {
          "base_uri": "https://localhost:8080/"
        },
        "id": "uxtnHuYLpWda",
        "outputId": "554b9a48-4a60-48ad-b56a-0394afbdaa52"
      },
      "execution_count": 43,
      "outputs": [
        {
          "output_type": "stream",
          "name": "stdout",
          "text": [
            "+--------------------+\n",
            "|         PrimaryType|\n",
            "+--------------------+\n",
            "|OFFENSE INVOLVING...|\n",
            "|CRIMINAL SEXUAL A...|\n",
            "|            STALKING|\n",
            "|PUBLIC PEACE VIOL...|\n",
            "|           OBSCENITY|\n",
            "|NON-CRIMINAL (SUB...|\n",
            "|               ARSON|\n",
            "|            GAMBLING|\n",
            "|   CRIMINAL TRESPASS|\n",
            "|             ASSAULT|\n",
            "|      NON - CRIMINAL|\n",
            "|LIQUOR LAW VIOLATION|\n",
            "| MOTOR VEHICLE THEFT|\n",
            "|               THEFT|\n",
            "|             BATTERY|\n",
            "|             ROBBERY|\n",
            "|            HOMICIDE|\n",
            "|    PUBLIC INDECENCY|\n",
            "| CRIM SEXUAL ASSAULT|\n",
            "|   HUMAN TRAFFICKING|\n",
            "|        INTIMIDATION|\n",
            "|        PROSTITUTION|\n",
            "|  DECEPTIVE PRACTICE|\n",
            "|CONCEALED CARRY L...|\n",
            "|         SEX OFFENSE|\n",
            "|     CRIMINAL DAMAGE|\n",
            "|           NARCOTICS|\n",
            "|        NON-CRIMINAL|\n",
            "|       OTHER OFFENSE|\n",
            "|          KIDNAPPING|\n",
            "|            BURGLARY|\n",
            "|   WEAPONS VIOLATION|\n",
            "+--------------------+\n",
            "only showing top 32 rows\n",
            "\n"
          ]
        }
      ]
    },
    {
      "cell_type": "code",
      "source": [
        "criminal_df = Chicago_crimes.filter((df_filter.PrimaryType!='NON-CRIMINAL') & \n",
        "                               (df_filter.PrimaryType!='NON - CRIMINAL')&  \n",
        "                               (df_filter.PrimaryType!='OTHER OFFENSE') & \n",
        "                               (df_filter.PrimaryType!='NON-CRIMINAL (SUBJECT SPECIFIED)') & \n",
        "                               (df_filter.PrimaryType!='STALKING') & \n",
        "                               (df_filter.PrimaryType!='ARSON'))"
      ],
      "metadata": {
        "id": "geWOLSJhpsQB"
      },
      "execution_count": 44,
      "outputs": []
    },
    {
      "cell_type": "code",
      "source": [
        "criminal_df.select(\"PrimaryType\").distinct().show(n = 32)"
      ],
      "metadata": {
        "colab": {
          "base_uri": "https://localhost:8080/"
        },
        "id": "a0ikwxlEp13P",
        "outputId": "3c6c3452-3921-4590-9262-70bd4464b8ce"
      },
      "execution_count": 45,
      "outputs": [
        {
          "output_type": "stream",
          "name": "stdout",
          "text": [
            "+--------------------+\n",
            "|         PrimaryType|\n",
            "+--------------------+\n",
            "|OFFENSE INVOLVING...|\n",
            "|CRIMINAL SEXUAL A...|\n",
            "|PUBLIC PEACE VIOL...|\n",
            "|           OBSCENITY|\n",
            "|            GAMBLING|\n",
            "|   CRIMINAL TRESPASS|\n",
            "|             ASSAULT|\n",
            "|LIQUOR LAW VIOLATION|\n",
            "| MOTOR VEHICLE THEFT|\n",
            "|               THEFT|\n",
            "|             BATTERY|\n",
            "|             ROBBERY|\n",
            "|            HOMICIDE|\n",
            "|    PUBLIC INDECENCY|\n",
            "| CRIM SEXUAL ASSAULT|\n",
            "|   HUMAN TRAFFICKING|\n",
            "|        INTIMIDATION|\n",
            "|        PROSTITUTION|\n",
            "|  DECEPTIVE PRACTICE|\n",
            "|CONCEALED CARRY L...|\n",
            "|         SEX OFFENSE|\n",
            "|     CRIMINAL DAMAGE|\n",
            "|           NARCOTICS|\n",
            "|          KIDNAPPING|\n",
            "|            BURGLARY|\n",
            "|   WEAPONS VIOLATION|\n",
            "|OTHER NARCOTIC VI...|\n",
            "|INTERFERENCE WITH...|\n",
            "+--------------------+\n",
            "\n"
          ]
        }
      ]
    },
    {
      "cell_type": "markdown",
      "source": [
        "7. Merge the similar crime types.\n",
        "For example, change 'Primary Type' of cases that have 'Primary Type' as ‘SEX OFFENSE’ or ‘PROSTITUTION’ such that they should have the same 'Primary Type'."
      ],
      "metadata": {
        "id": "PXE41sbxqDAz"
      }
    },
    {
      "cell_type": "code",
      "source": [
        "criminal_df.select(\"PrimaryType\").distinct().count()"
      ],
      "metadata": {
        "colab": {
          "base_uri": "https://localhost:8080/"
        },
        "id": "RseSG-VSqDph",
        "outputId": "8dfebce4-a6fb-4335-8866-426201858795"
      },
      "execution_count": 46,
      "outputs": [
        {
          "output_type": "execute_result",
          "data": {
            "text/plain": [
              "28"
            ]
          },
          "metadata": {},
          "execution_count": 46
        }
      ]
    },
    {
      "cell_type": "code",
      "source": [
        "from pyspark.sql.functions import regexp_replace\n",
        "df1= criminal_df.withColumn('PrimaryType', regexp_replace('PrimaryType', \"CRIM SEXUAL ASSAULT\", \"SEX OFFENSE\"))\\\n",
        "        .withColumn('PrimaryType', regexp_replace('PrimaryType', \"CRIMINAL SEXUAL ASSAULT\", \"SEX OFFENSE\"))\\\n",
        "        .withColumn('PrimaryType', regexp_replace('PrimaryType', \"PROSTITUTION\", \"SEX OFFENSE\"))\\\n",
        "        .withColumn('PrimaryType', regexp_replace('PrimaryType', \" HUMAN TRAFFICKING\", \"KIDNAPPING\"))\\\n",
        "        .withColumn('PrimaryType', regexp_replace('PrimaryType', \"BURGLARY\", \"THEFT\"))\\\n",
        "        .withColumn('PrimaryType', regexp_replace('PrimaryType', \"OTHER NARCOTIC VIOLATION\", \"NARCOTICS\"))\\\n",
        "        .withColumn('PrimaryType', regexp_replace('PrimaryType', \" PUBLIC INDECENCY\", \"SEX OFFENSE\"))\\\n",
        "        .withColumn('PrimaryType', regexp_replace('PrimaryType', \"ROBBERY\", \"THEFT\"))\\\n",
        "        .withColumn('PrimaryType', regexp_replace('PrimaryType', \"BURGLARY\", \"THEFT\"))\\\n",
        "        .withColumn('PrimaryType', regexp_replace('PrimaryType', \"CONCEALED CARRY LICENSE VIOLATION \", \" WEAPONS VIOLATION\"))\\\n",
        "        .withColumn('PrimaryType', regexp_replace('PrimaryType', \"MOTOR VEHICLE THEFT \", \"THEFT\"))\\\n",
        "        .withColumn('PrimaryType', regexp_replace('PrimaryType', \"BATTERY\", \"ASSAULT\"))\\\n",
        "        .withColumn('PrimaryType', regexp_replace('PrimaryType', \"MOTOR VEHICLE THEFT\", \"THEFT\"))"
      ],
      "metadata": {
        "id": "R5frytOWqJzN"
      },
      "execution_count": 47,
      "outputs": []
    },
    {
      "cell_type": "code",
      "source": [
        "df1.select(\"PrimaryType\").distinct().show(n = 32)"
      ],
      "metadata": {
        "colab": {
          "base_uri": "https://localhost:8080/"
        },
        "id": "aMhsE4TJq_Ep",
        "outputId": "b3336a34-52e3-49ac-d34f-ee99095cdc7b"
      },
      "execution_count": 48,
      "outputs": [
        {
          "output_type": "stream",
          "name": "stdout",
          "text": [
            "+--------------------+\n",
            "|         PrimaryType|\n",
            "+--------------------+\n",
            "|OFFENSE INVOLVING...|\n",
            "|PUBLIC PEACE VIOL...|\n",
            "|           OBSCENITY|\n",
            "|            GAMBLING|\n",
            "|   CRIMINAL TRESPASS|\n",
            "|             ASSAULT|\n",
            "|LIQUOR LAW VIOLATION|\n",
            "|               THEFT|\n",
            "|            HOMICIDE|\n",
            "|    PUBLIC INDECENCY|\n",
            "|   HUMAN TRAFFICKING|\n",
            "|        INTIMIDATION|\n",
            "|  DECEPTIVE PRACTICE|\n",
            "|CONCEALED CARRY L...|\n",
            "|         SEX OFFENSE|\n",
            "|     CRIMINAL DAMAGE|\n",
            "|           NARCOTICS|\n",
            "|          KIDNAPPING|\n",
            "|   WEAPONS VIOLATION|\n",
            "|INTERFERENCE WITH...|\n",
            "+--------------------+\n",
            "\n"
          ]
        }
      ]
    },
    {
      "cell_type": "markdown",
      "source": [
        "8. Analyze the data and present results:\n",
        "\n",
        "a. Show year-wise trend of the crime for last ten years."
      ],
      "metadata": {
        "id": "tAEEpXFrrJpZ"
      }
    },
    {
      "cell_type": "code",
      "source": [
        "import pandas as pd\n",
        "import matplotlib.pyplot as plt\n",
        "%matplotlib inline"
      ],
      "metadata": {
        "id": "EASa-L8_rNlq"
      },
      "execution_count": 49,
      "outputs": []
    },
    {
      "cell_type": "code",
      "source": [
        "number_of_crimes_per_year = Chicago_crimes.groupBy('Year').count()\n",
        "number_of_crimes_per_year = pd.DataFrame(number_of_crimes_per_year.orderBy('Year').rdd.map(lambda e: e.asDict()).collect())\n",
        "number_of_crimes_per_year"
      ],
      "metadata": {
        "colab": {
          "base_uri": "https://localhost:8080/",
          "height": 394
        },
        "id": "i4p3iwYDrSGn",
        "outputId": "acaa9b87-5d89-4403-998a-a18ddab9c3f8"
      },
      "execution_count": 50,
      "outputs": [
        {
          "output_type": "execute_result",
          "data": {
            "text/plain": [
              "    Year   count\n",
              "0   2012     271\n",
              "1   2013     404\n",
              "2   2014     959\n",
              "3   2015  138976\n",
              "4   2016  261441\n",
              "5   2017  260217\n",
              "6   2018  258859\n",
              "7   2019   98015\n",
              "8   2020    9928\n",
              "9   2021    1696\n",
              "10  2022     639"
            ],
            "text/html": [
              "\n",
              "  <div id=\"df-bcfb0b10-195f-48e7-ab2d-d4db29ab22ce\">\n",
              "    <div class=\"colab-df-container\">\n",
              "      <div>\n",
              "<style scoped>\n",
              "    .dataframe tbody tr th:only-of-type {\n",
              "        vertical-align: middle;\n",
              "    }\n",
              "\n",
              "    .dataframe tbody tr th {\n",
              "        vertical-align: top;\n",
              "    }\n",
              "\n",
              "    .dataframe thead th {\n",
              "        text-align: right;\n",
              "    }\n",
              "</style>\n",
              "<table border=\"1\" class=\"dataframe\">\n",
              "  <thead>\n",
              "    <tr style=\"text-align: right;\">\n",
              "      <th></th>\n",
              "      <th>Year</th>\n",
              "      <th>count</th>\n",
              "    </tr>\n",
              "  </thead>\n",
              "  <tbody>\n",
              "    <tr>\n",
              "      <th>0</th>\n",
              "      <td>2012</td>\n",
              "      <td>271</td>\n",
              "    </tr>\n",
              "    <tr>\n",
              "      <th>1</th>\n",
              "      <td>2013</td>\n",
              "      <td>404</td>\n",
              "    </tr>\n",
              "    <tr>\n",
              "      <th>2</th>\n",
              "      <td>2014</td>\n",
              "      <td>959</td>\n",
              "    </tr>\n",
              "    <tr>\n",
              "      <th>3</th>\n",
              "      <td>2015</td>\n",
              "      <td>138976</td>\n",
              "    </tr>\n",
              "    <tr>\n",
              "      <th>4</th>\n",
              "      <td>2016</td>\n",
              "      <td>261441</td>\n",
              "    </tr>\n",
              "    <tr>\n",
              "      <th>5</th>\n",
              "      <td>2017</td>\n",
              "      <td>260217</td>\n",
              "    </tr>\n",
              "    <tr>\n",
              "      <th>6</th>\n",
              "      <td>2018</td>\n",
              "      <td>258859</td>\n",
              "    </tr>\n",
              "    <tr>\n",
              "      <th>7</th>\n",
              "      <td>2019</td>\n",
              "      <td>98015</td>\n",
              "    </tr>\n",
              "    <tr>\n",
              "      <th>8</th>\n",
              "      <td>2020</td>\n",
              "      <td>9928</td>\n",
              "    </tr>\n",
              "    <tr>\n",
              "      <th>9</th>\n",
              "      <td>2021</td>\n",
              "      <td>1696</td>\n",
              "    </tr>\n",
              "    <tr>\n",
              "      <th>10</th>\n",
              "      <td>2022</td>\n",
              "      <td>639</td>\n",
              "    </tr>\n",
              "  </tbody>\n",
              "</table>\n",
              "</div>\n",
              "      <button class=\"colab-df-convert\" onclick=\"convertToInteractive('df-bcfb0b10-195f-48e7-ab2d-d4db29ab22ce')\"\n",
              "              title=\"Convert this dataframe to an interactive table.\"\n",
              "              style=\"display:none;\">\n",
              "        \n",
              "  <svg xmlns=\"http://www.w3.org/2000/svg\" height=\"24px\"viewBox=\"0 0 24 24\"\n",
              "       width=\"24px\">\n",
              "    <path d=\"M0 0h24v24H0V0z\" fill=\"none\"/>\n",
              "    <path d=\"M18.56 5.44l.94 2.06.94-2.06 2.06-.94-2.06-.94-.94-2.06-.94 2.06-2.06.94zm-11 1L8.5 8.5l.94-2.06 2.06-.94-2.06-.94L8.5 2.5l-.94 2.06-2.06.94zm10 10l.94 2.06.94-2.06 2.06-.94-2.06-.94-.94-2.06-.94 2.06-2.06.94z\"/><path d=\"M17.41 7.96l-1.37-1.37c-.4-.4-.92-.59-1.43-.59-.52 0-1.04.2-1.43.59L10.3 9.45l-7.72 7.72c-.78.78-.78 2.05 0 2.83L4 21.41c.39.39.9.59 1.41.59.51 0 1.02-.2 1.41-.59l7.78-7.78 2.81-2.81c.8-.78.8-2.07 0-2.86zM5.41 20L4 18.59l7.72-7.72 1.47 1.35L5.41 20z\"/>\n",
              "  </svg>\n",
              "      </button>\n",
              "      \n",
              "  <style>\n",
              "    .colab-df-container {\n",
              "      display:flex;\n",
              "      flex-wrap:wrap;\n",
              "      gap: 12px;\n",
              "    }\n",
              "\n",
              "    .colab-df-convert {\n",
              "      background-color: #E8F0FE;\n",
              "      border: none;\n",
              "      border-radius: 50%;\n",
              "      cursor: pointer;\n",
              "      display: none;\n",
              "      fill: #1967D2;\n",
              "      height: 32px;\n",
              "      padding: 0 0 0 0;\n",
              "      width: 32px;\n",
              "    }\n",
              "\n",
              "    .colab-df-convert:hover {\n",
              "      background-color: #E2EBFA;\n",
              "      box-shadow: 0px 1px 2px rgba(60, 64, 67, 0.3), 0px 1px 3px 1px rgba(60, 64, 67, 0.15);\n",
              "      fill: #174EA6;\n",
              "    }\n",
              "\n",
              "    [theme=dark] .colab-df-convert {\n",
              "      background-color: #3B4455;\n",
              "      fill: #D2E3FC;\n",
              "    }\n",
              "\n",
              "    [theme=dark] .colab-df-convert:hover {\n",
              "      background-color: #434B5C;\n",
              "      box-shadow: 0px 1px 3px 1px rgba(0, 0, 0, 0.15);\n",
              "      filter: drop-shadow(0px 1px 2px rgba(0, 0, 0, 0.3));\n",
              "      fill: #FFFFFF;\n",
              "    }\n",
              "  </style>\n",
              "\n",
              "      <script>\n",
              "        const buttonEl =\n",
              "          document.querySelector('#df-bcfb0b10-195f-48e7-ab2d-d4db29ab22ce button.colab-df-convert');\n",
              "        buttonEl.style.display =\n",
              "          google.colab.kernel.accessAllowed ? 'block' : 'none';\n",
              "\n",
              "        async function convertToInteractive(key) {\n",
              "          const element = document.querySelector('#df-bcfb0b10-195f-48e7-ab2d-d4db29ab22ce');\n",
              "          const dataTable =\n",
              "            await google.colab.kernel.invokeFunction('convertToInteractive',\n",
              "                                                     [key], {});\n",
              "          if (!dataTable) return;\n",
              "\n",
              "          const docLinkHtml = 'Like what you see? Visit the ' +\n",
              "            '<a target=\"_blank\" href=https://colab.research.google.com/notebooks/data_table.ipynb>data table notebook</a>'\n",
              "            + ' to learn more about interactive tables.';\n",
              "          element.innerHTML = '';\n",
              "          dataTable['output_type'] = 'display_data';\n",
              "          await google.colab.output.renderOutput(dataTable, element);\n",
              "          const docLink = document.createElement('div');\n",
              "          docLink.innerHTML = docLinkHtml;\n",
              "          element.appendChild(docLink);\n",
              "        }\n",
              "      </script>\n",
              "    </div>\n",
              "  </div>\n",
              "  "
            ]
          },
          "metadata": {},
          "execution_count": 50
        }
      ]
    },
    {
      "cell_type": "code",
      "source": [
        "number_of_crimes_per_year = number_of_crimes_per_year.sort_values(by = \"Year\")\n",
        "\n",
        "number_of_crimes_per_year.plot(figsize = (20,10), kind = \"bar\",\n",
        "                               x = \"Year\", y = \"count\", legend = False)\n",
        "\n",
        "plt.xlabel(\"Year\", fontsize = 20)\n",
        "plt.ylabel(\"Number of Crimes\", fontsize = 20)\n",
        "plt.title(\"The number of Crimes in Chicago\", fontsize = 28)\n",
        "plt.xticks(size = 18)\n",
        "plt.yticks(size = 18)\n",
        "plt.show()"
      ],
      "metadata": {
        "colab": {
          "base_uri": "https://localhost:8080/",
          "height": 791
        },
        "id": "LcEZcOGcrUw3",
        "outputId": "447bc9a1-0890-46b3-8b7a-cc3f5c42f1ab"
      },
      "execution_count": 51,
      "outputs": [
        {
          "output_type": "display_data",
          "data": {
            "text/plain": [
              "<Figure size 2000x1000 with 1 Axes>"
            ],
            "image/png": "[encoded data removed]"
          },
          "metadata": {}
        }
      ]
    },
    {
      "cell_type": "markdown",
      "source": [
        " So from the above we can observe and say that the highest number of accident were seen in 2012."
      ],
      "metadata": {
        "id": "11bvpjiArhuR"
      }
    },
    {
      "cell_type": "markdown",
      "source": [
        "b. Find out at which hour of the day crime is highest."
      ],
      "metadata": {
        "id": "RAVe7Kkqrsfq"
      }
    },
    {
      "cell_type": "code",
      "source": [
        "from pyspark.sql.functions import date_format\n",
        "df2 = df1.withColumn(\"HourOfDay\", date_format(\"Date&time\",\"H\"))"
      ],
      "metadata": {
        "id": "lrtNRbEyrs7w"
      },
      "execution_count": 52,
      "outputs": []
    },
    {
      "cell_type": "code",
      "source": [
        "df2.printSchema()"
      ],
      "metadata": {
        "colab": {
          "base_uri": "https://localhost:8080/"
        },
        "id": "3vPriPKdrxWC",
        "outputId": "a3c9601c-7ffb-43dc-e37d-254b03cb791c"
      },
      "execution_count": 53,
      "outputs": [
        {
          "output_type": "stream",
          "name": "stdout",
          "text": [
            "root\n",
            " |-- ID: string (nullable = true)\n",
            " |-- CaseNumber: string (nullable = true)\n",
            " |-- Block: string (nullable = true)\n",
            " |-- IUCR: string (nullable = true)\n",
            " |-- PrimaryType: string (nullable = true)\n",
            " |-- Description: string (nullable = true)\n",
            " |-- LocationDescription: string (nullable = true)\n",
            " |-- Arrest: boolean (nullable = true)\n",
            " |-- Domestic: boolean (nullable = true)\n",
            " |-- Beat: string (nullable = true)\n",
            " |-- District: string (nullable = true)\n",
            " |-- Ward: string (nullable = true)\n",
            " |-- CommunityArea: string (nullable = true)\n",
            " |-- FBICode: string (nullable = true)\n",
            " |-- XCoordinate: double (nullable = true)\n",
            " |-- YCoordinate: double (nullable = true)\n",
            " |-- Year: integer (nullable = true)\n",
            " |-- UpdatedOn: date (nullable = true)\n",
            " |-- Latitude: double (nullable = true)\n",
            " |-- Longitude: double (nullable = true)\n",
            " |-- Location: string (nullable = true)\n",
            " |-- Date&time: timestamp (nullable = true)\n",
            " |-- HourOfDay: string (nullable = true)\n",
            "\n"
          ]
        }
      ]
    },
    {
      "cell_type": "code",
      "source": [
        "import seaborn as sns"
      ],
      "metadata": {
        "id": "2L-y3u8or0Mq"
      },
      "execution_count": 54,
      "outputs": []
    },
    {
      "cell_type": "code",
      "source": [
        "temp = df2.filter(df2[\"Domestic\"] == \"true\")\n",
        "temp = temp.select(df2['HourOfDay'].cast('int').alias('HourOfDay'))\n",
        "hourlyCount  = temp.groupBy([\"HourOfDay\"]).count().collect()\n",
        "\n",
        "\n",
        "hours = [item[0] for item in hourlyCount]\n",
        "count = [item[1] for item in hourlyCount]\n",
        "\n",
        "crime_byHour = {\"count\": count, \"hours\": hours}\n",
        "crime_byHour = pd.DataFrame(crime_byHour)\n",
        "crime_byHour = crime_byHour.sort_values(by = \"hours\", ascending  = False)\n",
        "crime_byHour"
      ],
      "metadata": {
        "colab": {
          "base_uri": "https://localhost:8080/",
          "height": 802
        },
        "id": "XacamwHpr5hy",
        "outputId": "a3223201-9c52-4bfe-950f-43d7062d4342"
      },
      "execution_count": 55,
      "outputs": [
        {
          "output_type": "execute_result",
          "data": {
            "text/plain": [
              "    count  hours\n",
              "15   7895     23\n",
              "1    8372     22\n",
              "18   7768     21\n",
              "7    7416     20\n",
              "9    7208     19\n",
              "23   7110     18\n",
              "11   6763     17\n",
              "5    6707     16\n",
              "10   6268     15\n",
              "20   5878     14\n",
              "3    5824     13\n",
              "0    6715     12\n",
              "19   6381     11\n",
              "17   6331     10\n",
              "12   6045      9\n",
              "14   5274      8\n",
              "16   3954      7\n",
              "4    3138      6\n",
              "8    3021      5\n",
              "13   3699      4\n",
              "6    4601      3\n",
              "21   5668      2\n",
              "2    6306      1\n",
              "22   8133      0"
            ],
            "text/html": [
              "\n",
              "  <div id=\"df-7c2baab8-53fb-4e72-98c3-9ae5d2c0cde3\">\n",
              "    <div class=\"colab-df-container\">\n",
              "      <div>\n",
              "<style scoped>\n",
              "    .dataframe tbody tr th:only-of-type {\n",
              "        vertical-align: middle;\n",
              "    }\n",
              "\n",
              "    .dataframe tbody tr th {\n",
              "        vertical-align: top;\n",
              "    }\n",
              "\n",
              "    .dataframe thead th {\n",
              "        text-align: right;\n",
              "    }\n",
              "</style>\n",
              "<table border=\"1\" class=\"dataframe\">\n",
              "  <thead>\n",
              "    <tr style=\"text-align: right;\">\n",
              "      <th></th>\n",
              "      <th>count</th>\n",
              "      <th>hours</th>\n",
              "    </tr>\n",
              "  </thead>\n",
              "  <tbody>\n",
              "    <tr>\n",
              "      <th>15</th>\n",
              "      <td>7895</td>\n",
              "      <td>23</td>\n",
              "    </tr>\n",
              "    <tr>\n",
              "      <th>1</th>\n",
              "      <td>8372</td>\n",
              "      <td>22</td>\n",
              "    </tr>\n",
              "    <tr>\n",
              "      <th>18</th>\n",
              "      <td>7768</td>\n",
              "      <td>21</td>\n",
              "    </tr>\n",
              "    <tr>\n",
              "      <th>7</th>\n",
              "      <td>7416</td>\n",
              "      <td>20</td>\n",
              "    </tr>\n",
              "    <tr>\n",
              "      <th>9</th>\n",
              "      <td>7208</td>\n",
              "      <td>19</td>\n",
              "    </tr>\n",
              "    <tr>\n",
              "      <th>23</th>\n",
              "      <td>7110</td>\n",
              "      <td>18</td>\n",
              "    </tr>\n",
              "    <tr>\n",
              "      <th>11</th>\n",
              "      <td>6763</td>\n",
              "      <td>17</td>\n",
              "    </tr>\n",
              "    <tr>\n",
              "      <th>5</th>\n",
              "      <td>6707</td>\n",
              "      <td>16</td>\n",
              "    </tr>\n",
              "    <tr>\n",
              "      <th>10</th>\n",
              "      <td>6268</td>\n",
              "      <td>15</td>\n",
              "    </tr>\n",
              "    <tr>\n",
              "      <th>20</th>\n",
              "      <td>5878</td>\n",
              "      <td>14</td>\n",
              "    </tr>\n",
              "    <tr>\n",
              "      <th>3</th>\n",
              "      <td>5824</td>\n",
              "      <td>13</td>\n",
              "    </tr>\n",
              "    <tr>\n",
              "      <th>0</th>\n",
              "      <td>6715</td>\n",
              "      <td>12</td>\n",
              "    </tr>\n",
              "    <tr>\n",
              "      <th>19</th>\n",
              "      <td>6381</td>\n",
              "      <td>11</td>\n",
              "    </tr>\n",
              "    <tr>\n",
              "      <th>17</th>\n",
              "      <td>6331</td>\n",
              "      <td>10</td>\n",
              "    </tr>\n",
              "    <tr>\n",
              "      <th>12</th>\n",
              "      <td>6045</td>\n",
              "      <td>9</td>\n",
              "    </tr>\n",
              "    <tr>\n",
              "      <th>14</th>\n",
              "      <td>5274</td>\n",
              "      <td>8</td>\n",
              "    </tr>\n",
              "    <tr>\n",
              "      <th>16</th>\n",
              "      <td>3954</td>\n",
              "      <td>7</td>\n",
              "    </tr>\n",
              "    <tr>\n",
              "      <th>4</th>\n",
              "      <td>3138</td>\n",
              "      <td>6</td>\n",
              "    </tr>\n",
              "    <tr>\n",
              "      <th>8</th>\n",
              "      <td>3021</td>\n",
              "      <td>5</td>\n",
              "    </tr>\n",
              "    <tr>\n",
              "      <th>13</th>\n",
              "      <td>3699</td>\n",
              "      <td>4</td>\n",
              "    </tr>\n",
              "    <tr>\n",
              "      <th>6</th>\n",
              "      <td>4601</td>\n",
              "      <td>3</td>\n",
              "    </tr>\n",
              "    <tr>\n",
              "      <th>21</th>\n",
              "      <td>5668</td>\n",
              "      <td>2</td>\n",
              "    </tr>\n",
              "    <tr>\n",
              "      <th>2</th>\n",
              "      <td>6306</td>\n",
              "      <td>1</td>\n",
              "    </tr>\n",
              "    <tr>\n",
              "      <th>22</th>\n",
              "      <td>8133</td>\n",
              "      <td>0</td>\n",
              "    </tr>\n",
              "  </tbody>\n",
              "</table>\n",
              "</div>\n",
              "      <button class=\"colab-df-convert\" onclick=\"convertToInteractive('df-7c2baab8-53fb-4e72-98c3-9ae5d2c0cde3')\"\n",
              "              title=\"Convert this dataframe to an interactive table.\"\n",
              "              style=\"display:none;\">\n",
              "        \n",
              "  <svg xmlns=\"http://www.w3.org/2000/svg\" height=\"24px\"viewBox=\"0 0 24 24\"\n",
              "       width=\"24px\">\n",
              "    <path d=\"M0 0h24v24H0V0z\" fill=\"none\"/>\n",
              "    <path d=\"M18.56 5.44l.94 2.06.94-2.06 2.06-.94-2.06-.94-.94-2.06-.94 2.06-2.06.94zm-11 1L8.5 8.5l.94-2.06 2.06-.94-2.06-.94L8.5 2.5l-.94 2.06-2.06.94zm10 10l.94 2.06.94-2.06 2.06-.94-2.06-.94-.94-2.06-.94 2.06-2.06.94z\"/><path d=\"M17.41 7.96l-1.37-1.37c-.4-.4-.92-.59-1.43-.59-.52 0-1.04.2-1.43.59L10.3 9.45l-7.72 7.72c-.78.78-.78 2.05 0 2.83L4 21.41c.39.39.9.59 1.41.59.51 0 1.02-.2 1.41-.59l7.78-7.78 2.81-2.81c.8-.78.8-2.07 0-2.86zM5.41 20L4 18.59l7.72-7.72 1.47 1.35L5.41 20z\"/>\n",
              "  </svg>\n",
              "      </button>\n",
              "      \n",
              "  <style>\n",
              "    .colab-df-container {\n",
              "      display:flex;\n",
              "      flex-wrap:wrap;\n",
              "      gap: 12px;\n",
              "    }\n",
              "\n",
              "    .colab-df-convert {\n",
              "      background-color: #E8F0FE;\n",
              "      border: none;\n",
              "      border-radius: 50%;\n",
              "      cursor: pointer;\n",
              "      display: none;\n",
              "      fill: #1967D2;\n",
              "      height: 32px;\n",
              "      padding: 0 0 0 0;\n",
              "      width: 32px;\n",
              "    }\n",
              "\n",
              "    .colab-df-convert:hover {\n",
              "      background-color: #E2EBFA;\n",
              "      box-shadow: 0px 1px 2px rgba(60, 64, 67, 0.3), 0px 1px 3px 1px rgba(60, 64, 67, 0.15);\n",
              "      fill: #174EA6;\n",
              "    }\n",
              "\n",
              "    [theme=dark] .colab-df-convert {\n",
              "      background-color: #3B4455;\n",
              "      fill: #D2E3FC;\n",
              "    }\n",
              "\n",
              "    [theme=dark] .colab-df-convert:hover {\n",
              "      background-color: #434B5C;\n",
              "      box-shadow: 0px 1px 3px 1px rgba(0, 0, 0, 0.15);\n",
              "      filter: drop-shadow(0px 1px 2px rgba(0, 0, 0, 0.3));\n",
              "      fill: #FFFFFF;\n",
              "    }\n",
              "  </style>\n",
              "\n",
              "      <script>\n",
              "        const buttonEl =\n",
              "          document.querySelector('#df-7c2baab8-53fb-4e72-98c3-9ae5d2c0cde3 button.colab-df-convert');\n",
              "        buttonEl.style.display =\n",
              "          google.colab.kernel.accessAllowed ? 'block' : 'none';\n",
              "\n",
              "        async function convertToInteractive(key) {\n",
              "          const element = document.querySelector('#df-7c2baab8-53fb-4e72-98c3-9ae5d2c0cde3');\n",
              "          const dataTable =\n",
              "            await google.colab.kernel.invokeFunction('convertToInteractive',\n",
              "                                                     [key], {});\n",
              "          if (!dataTable) return;\n",
              "\n",
              "          const docLinkHtml = 'Like what you see? Visit the ' +\n",
              "            '<a target=\"_blank\" href=https://colab.research.google.com/notebooks/data_table.ipynb>data table notebook</a>'\n",
              "            + ' to learn more about interactive tables.';\n",
              "          element.innerHTML = '';\n",
              "          dataTable['output_type'] = 'display_data';\n",
              "          await google.colab.output.renderOutput(dataTable, element);\n",
              "          const docLink = document.createElement('div');\n",
              "          docLink.innerHTML = docLinkHtml;\n",
              "          element.appendChild(docLink);\n",
              "        }\n",
              "      </script>\n",
              "    </div>\n",
              "  </div>\n",
              "  "
            ]
          },
          "metadata": {},
          "execution_count": 55
        }
      ]
    },
    {
      "cell_type": "code",
      "source": [
        "crime_byHour.plot(figsize = (20,10), kind = \"line\", x = \"hours\", y = \"count\", legend = False)\n",
        "\n",
        "plt.ylabel(\"Number of  Crimes\", fontsize = 20)\n",
        "plt.xlabel(\"Hour\", fontsize = 20)\n",
        "plt.title(\"Crimes by hour\", fontsize = 28)\n",
        "plt.xticks(size = 18)\n",
        "plt.yticks(size = 18)\n",
        "plt.show()"
      ],
      "metadata": {
        "colab": {
          "base_uri": "https://localhost:8080/",
          "height": 772
        },
        "id": "3NISRJl2r8YW",
        "outputId": "75b4069f-c611-40a8-8790-5e4271298d22"
      },
      "execution_count": 56,
      "outputs": [
        {
          "output_type": "display_data",
          "data": {
            "text/plain": [
              "<Figure size 2000x1000 with 1 Axes>"
            ],
            "image/png": "[encoded data removed]"
          },
          "metadata": {}
        }
      ]
    },
    {
      "cell_type": "markdown",
      "source": [
        " So from the above we can observe and say that in the chart we can see that around 10pm at night is the highest crimes that occur."
      ],
      "metadata": {
        "id": "lAuFllXFsLXp"
      }
    },
    {
      "cell_type": "markdown",
      "source": [
        "c. Find top ten crimes and present them as a bar chart"
      ],
      "metadata": {
        "id": "HF8bL7iGsX6y"
      }
    },
    {
      "cell_type": "code",
      "source": [
        "type_crime = Chicago_crimes.groupBy('PrimaryType').count()\n",
        "type_crime= pd.DataFrame(type_crime.orderBy('count',ascending=False).rdd.map(lambda e: e.asDict()).collect())\n",
        "type_crime = type_crime.head(10)"
      ],
      "metadata": {
        "id": "OtftaVG2sYhe"
      },
      "execution_count": 57,
      "outputs": []
    },
    {
      "cell_type": "code",
      "source": [
        "plt.subplots(figsize=(20,10))\n",
        "sns.barplot(data = type_crime, x = 'count', y = 'PrimaryType').set(title='Top 10 Crimes')"
      ],
      "metadata": {
        "colab": {
          "base_uri": "https://localhost:8080/",
          "height": 717
        },
        "id": "TSqym_cVsc9L",
        "outputId": "3afd3af1-2b50-4cbe-d652-cf57dc67658d"
      },
      "execution_count": 58,
      "outputs": [
        {
          "output_type": "execute_result",
          "data": {
            "text/plain": [
              "[Text(0.5, 1.0, 'Top 10 Crimes')]"
            ]
          },
          "metadata": {},
          "execution_count": 58
        },
        {
          "output_type": "display_data",
          "data": {
            "text/plain": [
              "<Figure size 2000x1000 with 1 Axes>"
            ],
            "image/png": "[encoded data removed]"
          },
          "metadata": {}
        }
      ]
    },
    {
      "cell_type": "markdown",
      "source": [
        " So from the above we can observe and say that the theft was the highest recored crime."
      ],
      "metadata": {
        "id": "bIaDIz0Us0B0"
      }
    },
    {
      "cell_type": "code",
      "source": [],
      "metadata": {
        "id": "doSQ1CYis5j6"
      },
      "execution_count": null,
      "outputs": []
    },
    {
      "cell_type": "code",
      "source": [],
      "metadata": {
        "id": "MVdLLtyArLNh"
      },
      "execution_count": null,
      "outputs": []
    },
    {
      "cell_type": "code",
      "source": [],
      "metadata": {
        "id": "UzjD96sbodUB"
      },
      "execution_count": null,
      "outputs": []
    },
    {
      "cell_type": "code",
      "source": [],
      "metadata": {
        "id": "klFEzhtooVkK"
      },
      "execution_count": null,
      "outputs": []
    },
    {
      "cell_type": "code",
      "source": [],
      "metadata": {
        "id": "7M-jiOIomkNs"
      },
      "execution_count": null,
      "outputs": []
    },
    {
      "cell_type": "code",
      "source": [],
      "metadata": {
        "id": "dFUVpidymYFy"
      },
      "execution_count": null,
      "outputs": []
    },
    {
      "cell_type": "code",
      "source": [],
      "metadata": {
        "id": "7p0vc5aZmP9i"
      },
      "execution_count": null,
      "outputs": []
    },
    {
      "cell_type": "code",
      "source": [],
      "metadata": {
        "id": "Tdn3M4oymMi-"
      },
      "execution_count": null,
      "outputs": []
    },
    {
      "cell_type": "code",
      "source": [],
      "metadata": {
        "id": "RTVdFebHmKRF"
      },
      "execution_count": null,
      "outputs": []
    },
    {
      "cell_type": "code",
      "source": [],
      "metadata": {
        "id": "-Wxz6AV-mDcF"
      },
      "execution_count": null,
      "outputs": []
    },
    {
      "cell_type": "code",
      "source": [],
      "metadata": {
        "id": "uIAoqMqnkFxa"
      },
      "execution_count": null,
      "outputs": []
    },
    {
      "cell_type": "code",
      "source": [],
      "metadata": {
        "id": "2Igwio_Sj36B"
      },
      "execution_count": null,
      "outputs": []
    },
    {
      "cell_type": "code",
      "source": [],
      "metadata": {
        "id": "6wQdfYX-gIEm"
      },
      "execution_count": null,
      "outputs": []
    },
    {
      "cell_type": "code",
      "source": [],
      "metadata": {
        "id": "Ns501ivYf1II"
      },
      "execution_count": null,
      "outputs": []
    },
    {
      "cell_type": "code",
      "source": [],
      "metadata": {
        "id": "GS9NHJahTYE4"
      },
      "execution_count": null,
      "outputs": []
    },
    {
      "cell_type": "code",
      "source": [],
      "metadata": {
        "id": "amos47NtO5p_"
      },
      "execution_count": null,
      "outputs": []
    }
  ]
}